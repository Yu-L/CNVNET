{
 "cells": [
  {
   "cell_type": "code",
   "execution_count": 1,
   "metadata": {},
   "outputs": [],
   "source": [
    "import os\n",
    "import numpy as np\n",
    "import pandas as pd\n",
    "\n",
    "import matplotlib.pyplot as plt\n",
    "%matplotlib inline"
   ]
  },
  {
   "cell_type": "code",
   "execution_count": 2,
   "metadata": {},
   "outputs": [
    {
     "data": {
      "text/html": [
       "<div>\n",
       "<style scoped>\n",
       "    .dataframe tbody tr th:only-of-type {\n",
       "        vertical-align: middle;\n",
       "    }\n",
       "\n",
       "    .dataframe tbody tr th {\n",
       "        vertical-align: top;\n",
       "    }\n",
       "\n",
       "    .dataframe thead th {\n",
       "        text-align: right;\n",
       "    }\n",
       "</style>\n",
       "<table border=\"1\" class=\"dataframe\">\n",
       "  <thead>\n",
       "    <tr style=\"text-align: right;\">\n",
       "      <th></th>\n",
       "      <th>f_name</th>\n",
       "      <th>cnv_type_encode</th>\n",
       "    </tr>\n",
       "  </thead>\n",
       "  <tbody>\n",
       "    <tr>\n",
       "      <th>0</th>\n",
       "      <td>/zfssz2/ST_MCHRI/BIGDATA/PROJECT/NIPT_CNV/f_cn...</td>\n",
       "      <td>1</td>\n",
       "    </tr>\n",
       "    <tr>\n",
       "      <th>1</th>\n",
       "      <td>/zfssz2/ST_MCHRI/BIGDATA/PROJECT/NIPT_CNV/f_cn...</td>\n",
       "      <td>1</td>\n",
       "    </tr>\n",
       "    <tr>\n",
       "      <th>2</th>\n",
       "      <td>/zfssz2/ST_MCHRI/BIGDATA/PROJECT/NIPT_CNV/f_cn...</td>\n",
       "      <td>1</td>\n",
       "    </tr>\n",
       "    <tr>\n",
       "      <th>3</th>\n",
       "      <td>/zfssz2/ST_MCHRI/BIGDATA/PROJECT/NIPT_CNV/f_cn...</td>\n",
       "      <td>2</td>\n",
       "    </tr>\n",
       "    <tr>\n",
       "      <th>4</th>\n",
       "      <td>/zfssz2/ST_MCHRI/BIGDATA/PROJECT/NIPT_CNV/f_cn...</td>\n",
       "      <td>1</td>\n",
       "    </tr>\n",
       "  </tbody>\n",
       "</table>\n",
       "</div>"
      ],
      "text/plain": [
       "                                              f_name  cnv_type_encode\n",
       "0  /zfssz2/ST_MCHRI/BIGDATA/PROJECT/NIPT_CNV/f_cn...                1\n",
       "1  /zfssz2/ST_MCHRI/BIGDATA/PROJECT/NIPT_CNV/f_cn...                1\n",
       "2  /zfssz2/ST_MCHRI/BIGDATA/PROJECT/NIPT_CNV/f_cn...                1\n",
       "3  /zfssz2/ST_MCHRI/BIGDATA/PROJECT/NIPT_CNV/f_cn...                2\n",
       "4  /zfssz2/ST_MCHRI/BIGDATA/PROJECT/NIPT_CNV/f_cn...                1"
      ]
     },
     "execution_count": 2,
     "metadata": {},
     "output_type": "execute_result"
    }
   ],
   "source": [
    "# read test file\n",
    "test_fn_list = '/zfssz2/ST_MCHRI/BIGDATA/PROJECT/NIPT_CNV/f_cnv_out/data/w1000_r0.10_f0.01_test.csv'\n",
    "\n",
    "tst_fn_lst_df = pd.read_csv(test_fn_list,sep='\\t')\n",
    "tst_fn_lst_df.head()"
   ]
  },
  {
   "cell_type": "code",
   "execution_count": 3,
   "metadata": {},
   "outputs": [
    {
     "data": {
      "text/html": [
       "<div>\n",
       "<style scoped>\n",
       "    .dataframe tbody tr th:only-of-type {\n",
       "        vertical-align: middle;\n",
       "    }\n",
       "\n",
       "    .dataframe tbody tr th {\n",
       "        vertical-align: top;\n",
       "    }\n",
       "\n",
       "    .dataframe thead th {\n",
       "        text-align: right;\n",
       "    }\n",
       "</style>\n",
       "<table border=\"1\" class=\"dataframe\">\n",
       "  <thead>\n",
       "    <tr style=\"text-align: right;\">\n",
       "      <th></th>\n",
       "      <th>f_name</th>\n",
       "      <th>cnv_type_encode</th>\n",
       "    </tr>\n",
       "  </thead>\n",
       "  <tbody>\n",
       "    <tr>\n",
       "      <th>958</th>\n",
       "      <td>/zfssz2/ST_MCHRI/BIGDATA/PROJECT/NIPT_CNV/f_cnv_out/data/w1000_r0.10_f0.01/dataset/NA12878_DEL_33.npz</td>\n",
       "      <td>1</td>\n",
       "    </tr>\n",
       "    <tr>\n",
       "      <th>1177</th>\n",
       "      <td>/zfssz2/ST_MCHRI/BIGDATA/PROJECT/NIPT_CNV/f_cnv_out/data/w1000_r0.10_f0.01/dataset/NA12878_DEL_304.npz</td>\n",
       "      <td>1</td>\n",
       "    </tr>\n",
       "    <tr>\n",
       "      <th>2264</th>\n",
       "      <td>/zfssz2/ST_MCHRI/BIGDATA/PROJECT/NIPT_CNV/f_cnv_out/data/w1000_r0.10_f0.01/dataset/NA12878_DEL_472.npz</td>\n",
       "      <td>1</td>\n",
       "    </tr>\n",
       "    <tr>\n",
       "      <th>8565</th>\n",
       "      <td>/zfssz2/ST_MCHRI/BIGDATA/PROJECT/NIPT_CNV/f_cnv_out/data/w1000_r0.10_f0.01/dataset/NA12878_DEL_378.npz</td>\n",
       "      <td>1</td>\n",
       "    </tr>\n",
       "    <tr>\n",
       "      <th>10706</th>\n",
       "      <td>/zfssz2/ST_MCHRI/BIGDATA/PROJECT/NIPT_CNV/f_cnv_out/data/w1000_r0.10_f0.01/dataset/NA12878_DEL_556.npz</td>\n",
       "      <td>1</td>\n",
       "    </tr>\n",
       "  </tbody>\n",
       "</table>\n",
       "</div>"
      ],
      "text/plain": [
       "                                                                                                       f_name  \\\n",
       "958     /zfssz2/ST_MCHRI/BIGDATA/PROJECT/NIPT_CNV/f_cnv_out/data/w1000_r0.10_f0.01/dataset/NA12878_DEL_33.npz   \n",
       "1177   /zfssz2/ST_MCHRI/BIGDATA/PROJECT/NIPT_CNV/f_cnv_out/data/w1000_r0.10_f0.01/dataset/NA12878_DEL_304.npz   \n",
       "2264   /zfssz2/ST_MCHRI/BIGDATA/PROJECT/NIPT_CNV/f_cnv_out/data/w1000_r0.10_f0.01/dataset/NA12878_DEL_472.npz   \n",
       "8565   /zfssz2/ST_MCHRI/BIGDATA/PROJECT/NIPT_CNV/f_cnv_out/data/w1000_r0.10_f0.01/dataset/NA12878_DEL_378.npz   \n",
       "10706  /zfssz2/ST_MCHRI/BIGDATA/PROJECT/NIPT_CNV/f_cnv_out/data/w1000_r0.10_f0.01/dataset/NA12878_DEL_556.npz   \n",
       "\n",
       "       cnv_type_encode  \n",
       "958                  1  \n",
       "1177                 1  \n",
       "2264                 1  \n",
       "8565                 1  \n",
       "10706                1  "
      ]
     },
     "execution_count": 3,
     "metadata": {},
     "output_type": "execute_result"
    }
   ],
   "source": [
    "na12878_tst_df = tst_fn_lst_df[tst_fn_lst_df['f_name'].str.contains('NA12878_DEL')]\n",
    "pd.options.display.max_colwidth = 120\n",
    "na12878_tst_df.head()"
   ]
  },
  {
   "cell_type": "code",
   "execution_count": 4,
   "metadata": {},
   "outputs": [
    {
     "data": {
      "text/html": [
       "<div>\n",
       "<style scoped>\n",
       "    .dataframe tbody tr th:only-of-type {\n",
       "        vertical-align: middle;\n",
       "    }\n",
       "\n",
       "    .dataframe tbody tr th {\n",
       "        vertical-align: top;\n",
       "    }\n",
       "\n",
       "    .dataframe thead th {\n",
       "        text-align: right;\n",
       "    }\n",
       "</style>\n",
       "<table border=\"1\" class=\"dataframe\">\n",
       "  <thead>\n",
       "    <tr style=\"text-align: right;\">\n",
       "      <th></th>\n",
       "      <th>f_name</th>\n",
       "      <th>cnv_type_encode</th>\n",
       "    </tr>\n",
       "  </thead>\n",
       "  <tbody>\n",
       "    <tr>\n",
       "      <th>958</th>\n",
       "      <td>/zfssz2/ST_MCHRI/BIGDATA/PROJECT/NIPT_CNV/f_cnv_out/data/w1000_r0.10_f0.01/dataset/NA12878_DEL_33.npz</td>\n",
       "      <td>1</td>\n",
       "    </tr>\n",
       "    <tr>\n",
       "      <th>1177</th>\n",
       "      <td>/zfssz2/ST_MCHRI/BIGDATA/PROJECT/NIPT_CNV/f_cnv_out/data/w1000_r0.10_f0.01/dataset/NA12878_DEL_304.npz</td>\n",
       "      <td>1</td>\n",
       "    </tr>\n",
       "    <tr>\n",
       "      <th>2264</th>\n",
       "      <td>/zfssz2/ST_MCHRI/BIGDATA/PROJECT/NIPT_CNV/f_cnv_out/data/w1000_r0.10_f0.01/dataset/NA12878_DEL_472.npz</td>\n",
       "      <td>1</td>\n",
       "    </tr>\n",
       "    <tr>\n",
       "      <th>8565</th>\n",
       "      <td>/zfssz2/ST_MCHRI/BIGDATA/PROJECT/NIPT_CNV/f_cnv_out/data/w1000_r0.10_f0.01/dataset/NA12878_DEL_378.npz</td>\n",
       "      <td>1</td>\n",
       "    </tr>\n",
       "    <tr>\n",
       "      <th>10706</th>\n",
       "      <td>/zfssz2/ST_MCHRI/BIGDATA/PROJECT/NIPT_CNV/f_cnv_out/data/w1000_r0.10_f0.01/dataset/NA12878_DEL_556.npz</td>\n",
       "      <td>1</td>\n",
       "    </tr>\n",
       "    <tr>\n",
       "      <th>11802</th>\n",
       "      <td>/zfssz2/ST_MCHRI/BIGDATA/PROJECT/NIPT_CNV/f_cnv_out/data/w1000_r0.10_f0.01/dataset/NA12878_DEL_137.npz</td>\n",
       "      <td>1</td>\n",
       "    </tr>\n",
       "    <tr>\n",
       "      <th>13212</th>\n",
       "      <td>/zfssz2/ST_MCHRI/BIGDATA/PROJECT/NIPT_CNV/f_cnv_out/data/w1000_r0.10_f0.01/dataset/NA12878_DEL_220.npz</td>\n",
       "      <td>1</td>\n",
       "    </tr>\n",
       "    <tr>\n",
       "      <th>15208</th>\n",
       "      <td>/zfssz2/ST_MCHRI/BIGDATA/PROJECT/NIPT_CNV/f_cnv_out/data/w1000_r0.10_f0.01/dataset/NA12878_DEL_48.npz</td>\n",
       "      <td>1</td>\n",
       "    </tr>\n",
       "    <tr>\n",
       "      <th>15381</th>\n",
       "      <td>/zfssz2/ST_MCHRI/BIGDATA/PROJECT/NIPT_CNV/f_cnv_out/data/w1000_r0.10_f0.01/dataset/NA12878_DEL_99.npz</td>\n",
       "      <td>1</td>\n",
       "    </tr>\n",
       "    <tr>\n",
       "      <th>15724</th>\n",
       "      <td>/zfssz2/ST_MCHRI/BIGDATA/PROJECT/NIPT_CNV/f_cnv_out/data/w1000_r0.10_f0.01/dataset/NA12878_DEL_409.npz</td>\n",
       "      <td>1</td>\n",
       "    </tr>\n",
       "    <tr>\n",
       "      <th>17843</th>\n",
       "      <td>/zfssz2/ST_MCHRI/BIGDATA/PROJECT/NIPT_CNV/f_cnv_out/data/w1000_r0.10_f0.01/dataset/NA12878_DEL_551.npz</td>\n",
       "      <td>1</td>\n",
       "    </tr>\n",
       "    <tr>\n",
       "      <th>18420</th>\n",
       "      <td>/zfssz2/ST_MCHRI/BIGDATA/PROJECT/NIPT_CNV/f_cnv_out/data/w1000_r0.10_f0.01/dataset/NA12878_DEL_130.npz</td>\n",
       "      <td>1</td>\n",
       "    </tr>\n",
       "    <tr>\n",
       "      <th>19682</th>\n",
       "      <td>/zfssz2/ST_MCHRI/BIGDATA/PROJECT/NIPT_CNV/f_cnv_out/data/w1000_r0.10_f0.01/dataset/NA12878_DEL_227.npz</td>\n",
       "      <td>1</td>\n",
       "    </tr>\n",
       "    <tr>\n",
       "      <th>21472</th>\n",
       "      <td>/zfssz2/ST_MCHRI/BIGDATA/PROJECT/NIPT_CNV/f_cnv_out/data/w1000_r0.10_f0.01/dataset/NA12878_DEL_303.npz</td>\n",
       "      <td>1</td>\n",
       "    </tr>\n",
       "    <tr>\n",
       "      <th>21717</th>\n",
       "      <td>/zfssz2/ST_MCHRI/BIGDATA/PROJECT/NIPT_CNV/f_cnv_out/data/w1000_r0.10_f0.01/dataset/NA12878_DEL_34.npz</td>\n",
       "      <td>1</td>\n",
       "    </tr>\n",
       "    <tr>\n",
       "      <th>22765</th>\n",
       "      <td>/zfssz2/ST_MCHRI/BIGDATA/PROJECT/NIPT_CNV/f_cnv_out/data/w1000_r0.10_f0.01/dataset/NA12878_DEL_475.npz</td>\n",
       "      <td>1</td>\n",
       "    </tr>\n",
       "    <tr>\n",
       "      <th>28177</th>\n",
       "      <td>/zfssz2/ST_MCHRI/BIGDATA/PROJECT/NIPT_CNV/f_cnv_out/data/w1000_r0.10_f0.01/dataset/NA12878_DEL_46.npz</td>\n",
       "      <td>1</td>\n",
       "    </tr>\n",
       "    <tr>\n",
       "      <th>28391</th>\n",
       "      <td>/zfssz2/ST_MCHRI/BIGDATA/PROJECT/NIPT_CNV/f_cnv_out/data/w1000_r0.10_f0.01/dataset/NA12878_DEL_371.npz</td>\n",
       "      <td>1</td>\n",
       "    </tr>\n",
       "    <tr>\n",
       "      <th>29594</th>\n",
       "      <td>/zfssz2/ST_MCHRI/BIGDATA/PROJECT/NIPT_CNV/f_cnv_out/data/w1000_r0.10_f0.01/dataset/NA12878_DEL_407.npz</td>\n",
       "      <td>1</td>\n",
       "    </tr>\n",
       "    <tr>\n",
       "      <th>29702</th>\n",
       "      <td>/zfssz2/ST_MCHRI/BIGDATA/PROJECT/NIPT_CNV/f_cnv_out/data/w1000_r0.10_f0.01/dataset/NA12878_DEL_97.npz</td>\n",
       "      <td>1</td>\n",
       "    </tr>\n",
       "    <tr>\n",
       "      <th>33894</th>\n",
       "      <td>/zfssz2/ST_MCHRI/BIGDATA/PROJECT/NIPT_CNV/f_cnv_out/data/w1000_r0.10_f0.01/dataset/NA12878_DEL_229.npz</td>\n",
       "      <td>1</td>\n",
       "    </tr>\n",
       "    <tr>\n",
       "      <th>38044</th>\n",
       "      <td>/zfssz2/ST_MCHRI/BIGDATA/PROJECT/NIPT_CNV/f_cnv_out/data/w1000_r0.10_f0.01/dataset/NA12878_DEL_523.npz</td>\n",
       "      <td>1</td>\n",
       "    </tr>\n",
       "    <tr>\n",
       "      <th>38130</th>\n",
       "      <td>/zfssz2/ST_MCHRI/BIGDATA/PROJECT/NIPT_CNV/f_cnv_out/data/w1000_r0.10_f0.01/dataset/NA12878_DEL_284.npz</td>\n",
       "      <td>1</td>\n",
       "    </tr>\n",
       "    <tr>\n",
       "      <th>39087</th>\n",
       "      <td>/zfssz2/ST_MCHRI/BIGDATA/PROJECT/NIPT_CNV/f_cnv_out/data/w1000_r0.10_f0.01/dataset/NA12878_DEL_142.npz</td>\n",
       "      <td>1</td>\n",
       "    </tr>\n",
       "    <tr>\n",
       "      <th>39260</th>\n",
       "      <td>/zfssz2/ST_MCHRI/BIGDATA/PROJECT/NIPT_CNV/f_cnv_out/data/w1000_r0.10_f0.01/dataset/NA12878_DEL_193.npz</td>\n",
       "      <td>1</td>\n",
       "    </tr>\n",
       "    <tr>\n",
       "      <th>40457</th>\n",
       "      <td>/zfssz2/ST_MCHRI/BIGDATA/PROJECT/NIPT_CNV/f_cnv_out/data/w1000_r0.10_f0.01/dataset/NA12878_DEL_255.npz</td>\n",
       "      <td>1</td>\n",
       "    </tr>\n",
       "    <tr>\n",
       "      <th>45074</th>\n",
       "      <td>/zfssz2/ST_MCHRI/BIGDATA/PROJECT/NIPT_CNV/f_cnv_out/data/w1000_r0.10_f0.01/dataset/NA12878_DEL_283.npz</td>\n",
       "      <td>1</td>\n",
       "    </tr>\n",
       "    <tr>\n",
       "      <th>45183</th>\n",
       "      <td>/zfssz2/ST_MCHRI/BIGDATA/PROJECT/NIPT_CNV/f_cnv_out/data/w1000_r0.10_f0.01/dataset/NA12878_DEL_524.npz</td>\n",
       "      <td>1</td>\n",
       "    </tr>\n",
       "    <tr>\n",
       "      <th>45819</th>\n",
       "      <td>/zfssz2/ST_MCHRI/BIGDATA/PROJECT/NIPT_CNV/f_cnv_out/data/w1000_r0.10_f0.01/dataset/NA12878_DEL_145.npz</td>\n",
       "      <td>1</td>\n",
       "    </tr>\n",
       "    <tr>\n",
       "      <th>46483</th>\n",
       "      <td>/zfssz2/ST_MCHRI/BIGDATA/PROJECT/NIPT_CNV/f_cnv_out/data/w1000_r0.10_f0.01/dataset/NA12878_DEL_194.npz</td>\n",
       "      <td>1</td>\n",
       "    </tr>\n",
       "    <tr>\n",
       "      <th>...</th>\n",
       "      <td>...</td>\n",
       "      <td>...</td>\n",
       "    </tr>\n",
       "    <tr>\n",
       "      <th>821591</th>\n",
       "      <td>/zfssz2/ST_MCHRI/BIGDATA/PROJECT/NIPT_CNV/f_cnv_out/data/w1000_r0.10_f0.01/dataset/NA12878_DEL_70.npz</td>\n",
       "      <td>1</td>\n",
       "    </tr>\n",
       "    <tr>\n",
       "      <th>824698</th>\n",
       "      <td>/zfssz2/ST_MCHRI/BIGDATA/PROJECT/NIPT_CNV/f_cnv_out/data/w1000_r0.10_f0.01/dataset/NA12878_DEL_108.npz</td>\n",
       "      <td>1</td>\n",
       "    </tr>\n",
       "    <tr>\n",
       "      <th>829698</th>\n",
       "      <td>/zfssz2/ST_MCHRI/BIGDATA/PROJECT/NIPT_CNV/f_cnv_out/data/w1000_r0.10_f0.01/dataset/NA12878_DEL_263.npz</td>\n",
       "      <td>1</td>\n",
       "    </tr>\n",
       "    <tr>\n",
       "      <th>830548</th>\n",
       "      <td>/zfssz2/ST_MCHRI/BIGDATA/PROJECT/NIPT_CNV/f_cnv_out/data/w1000_r0.10_f0.01/dataset/NA12878_DEL_515.npz</td>\n",
       "      <td>1</td>\n",
       "    </tr>\n",
       "    <tr>\n",
       "      <th>831198</th>\n",
       "      <td>/zfssz2/ST_MCHRI/BIGDATA/PROJECT/NIPT_CNV/f_cnv_out/data/w1000_r0.10_f0.01/dataset/NA12878_DEL_174.npz</td>\n",
       "      <td>1</td>\n",
       "    </tr>\n",
       "    <tr>\n",
       "      <th>836919</th>\n",
       "      <td>/zfssz2/ST_MCHRI/BIGDATA/PROJECT/NIPT_CNV/f_cnv_out/data/w1000_r0.10_f0.01/dataset/NA12878_DEL_264.npz</td>\n",
       "      <td>1</td>\n",
       "    </tr>\n",
       "    <tr>\n",
       "      <th>837098</th>\n",
       "      <td>/zfssz2/ST_MCHRI/BIGDATA/PROJECT/NIPT_CNV/f_cnv_out/data/w1000_r0.10_f0.01/dataset/NA12878_DEL_512.npz</td>\n",
       "      <td>1</td>\n",
       "    </tr>\n",
       "    <tr>\n",
       "      <th>838147</th>\n",
       "      <td>/zfssz2/ST_MCHRI/BIGDATA/PROJECT/NIPT_CNV/f_cnv_out/data/w1000_r0.10_f0.01/dataset/NA12878_DEL_173.npz</td>\n",
       "      <td>1</td>\n",
       "    </tr>\n",
       "    <tr>\n",
       "      <th>838784</th>\n",
       "      <td>/zfssz2/ST_MCHRI/BIGDATA/PROJECT/NIPT_CNV/f_cnv_out/data/w1000_r0.10_f0.01/dataset/NA12878_DEL_391.npz</td>\n",
       "      <td>1</td>\n",
       "    </tr>\n",
       "    <tr>\n",
       "      <th>838877</th>\n",
       "      <td>/zfssz2/ST_MCHRI/BIGDATA/PROJECT/NIPT_CNV/f_cnv_out/data/w1000_r0.10_f0.01/dataset/NA12878_DEL_436.npz</td>\n",
       "      <td>1</td>\n",
       "    </tr>\n",
       "    <tr>\n",
       "      <th>841690</th>\n",
       "      <td>/zfssz2/ST_MCHRI/BIGDATA/PROJECT/NIPT_CNV/f_cnv_out/data/w1000_r0.10_f0.01/dataset/NA12878_DEL_77.npz</td>\n",
       "      <td>1</td>\n",
       "    </tr>\n",
       "    <tr>\n",
       "      <th>841919</th>\n",
       "      <td>/zfssz2/ST_MCHRI/BIGDATA/PROJECT/NIPT_CNV/f_cnv_out/data/w1000_r0.10_f0.01/dataset/NA12878_DEL_340.npz</td>\n",
       "      <td>1</td>\n",
       "    </tr>\n",
       "    <tr>\n",
       "      <th>843231</th>\n",
       "      <td>/zfssz2/ST_MCHRI/BIGDATA/PROJECT/NIPT_CNV/f_cnv_out/data/w1000_r0.10_f0.01/dataset/NA12878_DEL_218.npz</td>\n",
       "      <td>1</td>\n",
       "    </tr>\n",
       "    <tr>\n",
       "      <th>845711</th>\n",
       "      <td>/zfssz2/ST_MCHRI/BIGDATA/PROJECT/NIPT_CNV/f_cnv_out/data/w1000_r0.10_f0.01/dataset/NA12878_DEL_444.npz</td>\n",
       "      <td>1</td>\n",
       "    </tr>\n",
       "    <tr>\n",
       "      <th>848509</th>\n",
       "      <td>/zfssz2/ST_MCHRI/BIGDATA/PROJECT/NIPT_CNV/f_cnv_out/data/w1000_r0.10_f0.01/dataset/NA12878_DEL_495.npz</td>\n",
       "      <td>1</td>\n",
       "    </tr>\n",
       "    <tr>\n",
       "      <th>848600</th>\n",
       "      <td>/zfssz2/ST_MCHRI/BIGDATA/PROJECT/NIPT_CNV/f_cnv_out/data/w1000_r0.10_f0.01/dataset/NA12878_DEL_332.npz</td>\n",
       "      <td>1</td>\n",
       "    </tr>\n",
       "    <tr>\n",
       "      <th>848663</th>\n",
       "      <td>/zfssz2/ST_MCHRI/BIGDATA/PROJECT/NIPT_CNV/f_cnv_out/data/w1000_r0.10_f0.01/dataset/NA12878_DEL_2.npz</td>\n",
       "      <td>1</td>\n",
       "    </tr>\n",
       "    <tr>\n",
       "      <th>853044</th>\n",
       "      <td>/zfssz2/ST_MCHRI/BIGDATA/PROJECT/NIPT_CNV/f_cnv_out/data/w1000_r0.10_f0.01/dataset/NA12878_DEL_438.npz</td>\n",
       "      <td>1</td>\n",
       "    </tr>\n",
       "    <tr>\n",
       "      <th>855142</th>\n",
       "      <td>/zfssz2/ST_MCHRI/BIGDATA/PROJECT/NIPT_CNV/f_cnv_out/data/w1000_r0.10_f0.01/dataset/NA12878_DEL_79.npz</td>\n",
       "      <td>1</td>\n",
       "    </tr>\n",
       "    <tr>\n",
       "      <th>857086</th>\n",
       "      <td>/zfssz2/ST_MCHRI/BIGDATA/PROJECT/NIPT_CNV/f_cnv_out/data/w1000_r0.10_f0.01/dataset/NA12878_DEL_216.npz</td>\n",
       "      <td>1</td>\n",
       "    </tr>\n",
       "    <tr>\n",
       "      <th>857805</th>\n",
       "      <td>/zfssz2/ST_MCHRI/BIGDATA/PROJECT/NIPT_CNV/f_cnv_out/data/w1000_r0.10_f0.01/dataset/NA12878_DEL_560.npz</td>\n",
       "      <td>1</td>\n",
       "    </tr>\n",
       "    <tr>\n",
       "      <th>858400</th>\n",
       "      <td>/zfssz2/ST_MCHRI/BIGDATA/PROJECT/NIPT_CNV/f_cnv_out/data/w1000_r0.10_f0.01/dataset/NA12878_DEL_101.npz</td>\n",
       "      <td>1</td>\n",
       "    </tr>\n",
       "    <tr>\n",
       "      <th>859664</th>\n",
       "      <td>/zfssz2/ST_MCHRI/BIGDATA/PROJECT/NIPT_CNV/f_cnv_out/data/w1000_r0.10_f0.01/dataset/NA12878_DEL_398.npz</td>\n",
       "      <td>1</td>\n",
       "    </tr>\n",
       "    <tr>\n",
       "      <th>862141</th>\n",
       "      <td>/zfssz2/ST_MCHRI/BIGDATA/PROJECT/NIPT_CNV/f_cnv_out/data/w1000_r0.10_f0.01/dataset/NA12878_DEL_349.npz</td>\n",
       "      <td>1</td>\n",
       "    </tr>\n",
       "    <tr>\n",
       "      <th>864258</th>\n",
       "      <td>/zfssz2/ST_MCHRI/BIGDATA/PROJECT/NIPT_CNV/f_cnv_out/data/w1000_r0.10_f0.01/dataset/NA12878_DEL_211.npz</td>\n",
       "      <td>1</td>\n",
       "    </tr>\n",
       "    <tr>\n",
       "      <th>865399</th>\n",
       "      <td>/zfssz2/ST_MCHRI/BIGDATA/PROJECT/NIPT_CNV/f_cnv_out/data/w1000_r0.10_f0.01/dataset/NA12878_DEL_106.npz</td>\n",
       "      <td>1</td>\n",
       "    </tr>\n",
       "    <tr>\n",
       "      <th>866111</th>\n",
       "      <td>/zfssz2/ST_MCHRI/BIGDATA/PROJECT/NIPT_CNV/f_cnv_out/data/w1000_r0.10_f0.01/dataset/NA12878_DEL_443.npz</td>\n",
       "      <td>1</td>\n",
       "    </tr>\n",
       "    <tr>\n",
       "      <th>869098</th>\n",
       "      <td>/zfssz2/ST_MCHRI/BIGDATA/PROJECT/NIPT_CNV/f_cnv_out/data/w1000_r0.10_f0.01/dataset/NA12878_DEL_5.npz</td>\n",
       "      <td>1</td>\n",
       "    </tr>\n",
       "    <tr>\n",
       "      <th>869248</th>\n",
       "      <td>/zfssz2/ST_MCHRI/BIGDATA/PROJECT/NIPT_CNV/f_cnv_out/data/w1000_r0.10_f0.01/dataset/NA12878_DEL_335.npz</td>\n",
       "      <td>1</td>\n",
       "    </tr>\n",
       "    <tr>\n",
       "      <th>869350</th>\n",
       "      <td>/zfssz2/ST_MCHRI/BIGDATA/PROJECT/NIPT_CNV/f_cnv_out/data/w1000_r0.10_f0.01/dataset/NA12878_DEL_492.npz</td>\n",
       "      <td>1</td>\n",
       "    </tr>\n",
       "  </tbody>\n",
       "</table>\n",
       "<p>563 rows × 2 columns</p>\n",
       "</div>"
      ],
      "text/plain": [
       "                                                                                                        f_name  \\\n",
       "958      /zfssz2/ST_MCHRI/BIGDATA/PROJECT/NIPT_CNV/f_cnv_out/data/w1000_r0.10_f0.01/dataset/NA12878_DEL_33.npz   \n",
       "1177    /zfssz2/ST_MCHRI/BIGDATA/PROJECT/NIPT_CNV/f_cnv_out/data/w1000_r0.10_f0.01/dataset/NA12878_DEL_304.npz   \n",
       "2264    /zfssz2/ST_MCHRI/BIGDATA/PROJECT/NIPT_CNV/f_cnv_out/data/w1000_r0.10_f0.01/dataset/NA12878_DEL_472.npz   \n",
       "8565    /zfssz2/ST_MCHRI/BIGDATA/PROJECT/NIPT_CNV/f_cnv_out/data/w1000_r0.10_f0.01/dataset/NA12878_DEL_378.npz   \n",
       "10706   /zfssz2/ST_MCHRI/BIGDATA/PROJECT/NIPT_CNV/f_cnv_out/data/w1000_r0.10_f0.01/dataset/NA12878_DEL_556.npz   \n",
       "11802   /zfssz2/ST_MCHRI/BIGDATA/PROJECT/NIPT_CNV/f_cnv_out/data/w1000_r0.10_f0.01/dataset/NA12878_DEL_137.npz   \n",
       "13212   /zfssz2/ST_MCHRI/BIGDATA/PROJECT/NIPT_CNV/f_cnv_out/data/w1000_r0.10_f0.01/dataset/NA12878_DEL_220.npz   \n",
       "15208    /zfssz2/ST_MCHRI/BIGDATA/PROJECT/NIPT_CNV/f_cnv_out/data/w1000_r0.10_f0.01/dataset/NA12878_DEL_48.npz   \n",
       "15381    /zfssz2/ST_MCHRI/BIGDATA/PROJECT/NIPT_CNV/f_cnv_out/data/w1000_r0.10_f0.01/dataset/NA12878_DEL_99.npz   \n",
       "15724   /zfssz2/ST_MCHRI/BIGDATA/PROJECT/NIPT_CNV/f_cnv_out/data/w1000_r0.10_f0.01/dataset/NA12878_DEL_409.npz   \n",
       "17843   /zfssz2/ST_MCHRI/BIGDATA/PROJECT/NIPT_CNV/f_cnv_out/data/w1000_r0.10_f0.01/dataset/NA12878_DEL_551.npz   \n",
       "18420   /zfssz2/ST_MCHRI/BIGDATA/PROJECT/NIPT_CNV/f_cnv_out/data/w1000_r0.10_f0.01/dataset/NA12878_DEL_130.npz   \n",
       "19682   /zfssz2/ST_MCHRI/BIGDATA/PROJECT/NIPT_CNV/f_cnv_out/data/w1000_r0.10_f0.01/dataset/NA12878_DEL_227.npz   \n",
       "21472   /zfssz2/ST_MCHRI/BIGDATA/PROJECT/NIPT_CNV/f_cnv_out/data/w1000_r0.10_f0.01/dataset/NA12878_DEL_303.npz   \n",
       "21717    /zfssz2/ST_MCHRI/BIGDATA/PROJECT/NIPT_CNV/f_cnv_out/data/w1000_r0.10_f0.01/dataset/NA12878_DEL_34.npz   \n",
       "22765   /zfssz2/ST_MCHRI/BIGDATA/PROJECT/NIPT_CNV/f_cnv_out/data/w1000_r0.10_f0.01/dataset/NA12878_DEL_475.npz   \n",
       "28177    /zfssz2/ST_MCHRI/BIGDATA/PROJECT/NIPT_CNV/f_cnv_out/data/w1000_r0.10_f0.01/dataset/NA12878_DEL_46.npz   \n",
       "28391   /zfssz2/ST_MCHRI/BIGDATA/PROJECT/NIPT_CNV/f_cnv_out/data/w1000_r0.10_f0.01/dataset/NA12878_DEL_371.npz   \n",
       "29594   /zfssz2/ST_MCHRI/BIGDATA/PROJECT/NIPT_CNV/f_cnv_out/data/w1000_r0.10_f0.01/dataset/NA12878_DEL_407.npz   \n",
       "29702    /zfssz2/ST_MCHRI/BIGDATA/PROJECT/NIPT_CNV/f_cnv_out/data/w1000_r0.10_f0.01/dataset/NA12878_DEL_97.npz   \n",
       "33894   /zfssz2/ST_MCHRI/BIGDATA/PROJECT/NIPT_CNV/f_cnv_out/data/w1000_r0.10_f0.01/dataset/NA12878_DEL_229.npz   \n",
       "38044   /zfssz2/ST_MCHRI/BIGDATA/PROJECT/NIPT_CNV/f_cnv_out/data/w1000_r0.10_f0.01/dataset/NA12878_DEL_523.npz   \n",
       "38130   /zfssz2/ST_MCHRI/BIGDATA/PROJECT/NIPT_CNV/f_cnv_out/data/w1000_r0.10_f0.01/dataset/NA12878_DEL_284.npz   \n",
       "39087   /zfssz2/ST_MCHRI/BIGDATA/PROJECT/NIPT_CNV/f_cnv_out/data/w1000_r0.10_f0.01/dataset/NA12878_DEL_142.npz   \n",
       "39260   /zfssz2/ST_MCHRI/BIGDATA/PROJECT/NIPT_CNV/f_cnv_out/data/w1000_r0.10_f0.01/dataset/NA12878_DEL_193.npz   \n",
       "40457   /zfssz2/ST_MCHRI/BIGDATA/PROJECT/NIPT_CNV/f_cnv_out/data/w1000_r0.10_f0.01/dataset/NA12878_DEL_255.npz   \n",
       "45074   /zfssz2/ST_MCHRI/BIGDATA/PROJECT/NIPT_CNV/f_cnv_out/data/w1000_r0.10_f0.01/dataset/NA12878_DEL_283.npz   \n",
       "45183   /zfssz2/ST_MCHRI/BIGDATA/PROJECT/NIPT_CNV/f_cnv_out/data/w1000_r0.10_f0.01/dataset/NA12878_DEL_524.npz   \n",
       "45819   /zfssz2/ST_MCHRI/BIGDATA/PROJECT/NIPT_CNV/f_cnv_out/data/w1000_r0.10_f0.01/dataset/NA12878_DEL_145.npz   \n",
       "46483   /zfssz2/ST_MCHRI/BIGDATA/PROJECT/NIPT_CNV/f_cnv_out/data/w1000_r0.10_f0.01/dataset/NA12878_DEL_194.npz   \n",
       "...                                                                                                        ...   \n",
       "821591   /zfssz2/ST_MCHRI/BIGDATA/PROJECT/NIPT_CNV/f_cnv_out/data/w1000_r0.10_f0.01/dataset/NA12878_DEL_70.npz   \n",
       "824698  /zfssz2/ST_MCHRI/BIGDATA/PROJECT/NIPT_CNV/f_cnv_out/data/w1000_r0.10_f0.01/dataset/NA12878_DEL_108.npz   \n",
       "829698  /zfssz2/ST_MCHRI/BIGDATA/PROJECT/NIPT_CNV/f_cnv_out/data/w1000_r0.10_f0.01/dataset/NA12878_DEL_263.npz   \n",
       "830548  /zfssz2/ST_MCHRI/BIGDATA/PROJECT/NIPT_CNV/f_cnv_out/data/w1000_r0.10_f0.01/dataset/NA12878_DEL_515.npz   \n",
       "831198  /zfssz2/ST_MCHRI/BIGDATA/PROJECT/NIPT_CNV/f_cnv_out/data/w1000_r0.10_f0.01/dataset/NA12878_DEL_174.npz   \n",
       "836919  /zfssz2/ST_MCHRI/BIGDATA/PROJECT/NIPT_CNV/f_cnv_out/data/w1000_r0.10_f0.01/dataset/NA12878_DEL_264.npz   \n",
       "837098  /zfssz2/ST_MCHRI/BIGDATA/PROJECT/NIPT_CNV/f_cnv_out/data/w1000_r0.10_f0.01/dataset/NA12878_DEL_512.npz   \n",
       "838147  /zfssz2/ST_MCHRI/BIGDATA/PROJECT/NIPT_CNV/f_cnv_out/data/w1000_r0.10_f0.01/dataset/NA12878_DEL_173.npz   \n",
       "838784  /zfssz2/ST_MCHRI/BIGDATA/PROJECT/NIPT_CNV/f_cnv_out/data/w1000_r0.10_f0.01/dataset/NA12878_DEL_391.npz   \n",
       "838877  /zfssz2/ST_MCHRI/BIGDATA/PROJECT/NIPT_CNV/f_cnv_out/data/w1000_r0.10_f0.01/dataset/NA12878_DEL_436.npz   \n",
       "841690   /zfssz2/ST_MCHRI/BIGDATA/PROJECT/NIPT_CNV/f_cnv_out/data/w1000_r0.10_f0.01/dataset/NA12878_DEL_77.npz   \n",
       "841919  /zfssz2/ST_MCHRI/BIGDATA/PROJECT/NIPT_CNV/f_cnv_out/data/w1000_r0.10_f0.01/dataset/NA12878_DEL_340.npz   \n",
       "843231  /zfssz2/ST_MCHRI/BIGDATA/PROJECT/NIPT_CNV/f_cnv_out/data/w1000_r0.10_f0.01/dataset/NA12878_DEL_218.npz   \n",
       "845711  /zfssz2/ST_MCHRI/BIGDATA/PROJECT/NIPT_CNV/f_cnv_out/data/w1000_r0.10_f0.01/dataset/NA12878_DEL_444.npz   \n",
       "848509  /zfssz2/ST_MCHRI/BIGDATA/PROJECT/NIPT_CNV/f_cnv_out/data/w1000_r0.10_f0.01/dataset/NA12878_DEL_495.npz   \n",
       "848600  /zfssz2/ST_MCHRI/BIGDATA/PROJECT/NIPT_CNV/f_cnv_out/data/w1000_r0.10_f0.01/dataset/NA12878_DEL_332.npz   \n",
       "848663    /zfssz2/ST_MCHRI/BIGDATA/PROJECT/NIPT_CNV/f_cnv_out/data/w1000_r0.10_f0.01/dataset/NA12878_DEL_2.npz   \n",
       "853044  /zfssz2/ST_MCHRI/BIGDATA/PROJECT/NIPT_CNV/f_cnv_out/data/w1000_r0.10_f0.01/dataset/NA12878_DEL_438.npz   \n",
       "855142   /zfssz2/ST_MCHRI/BIGDATA/PROJECT/NIPT_CNV/f_cnv_out/data/w1000_r0.10_f0.01/dataset/NA12878_DEL_79.npz   \n",
       "857086  /zfssz2/ST_MCHRI/BIGDATA/PROJECT/NIPT_CNV/f_cnv_out/data/w1000_r0.10_f0.01/dataset/NA12878_DEL_216.npz   \n",
       "857805  /zfssz2/ST_MCHRI/BIGDATA/PROJECT/NIPT_CNV/f_cnv_out/data/w1000_r0.10_f0.01/dataset/NA12878_DEL_560.npz   \n",
       "858400  /zfssz2/ST_MCHRI/BIGDATA/PROJECT/NIPT_CNV/f_cnv_out/data/w1000_r0.10_f0.01/dataset/NA12878_DEL_101.npz   \n",
       "859664  /zfssz2/ST_MCHRI/BIGDATA/PROJECT/NIPT_CNV/f_cnv_out/data/w1000_r0.10_f0.01/dataset/NA12878_DEL_398.npz   \n",
       "862141  /zfssz2/ST_MCHRI/BIGDATA/PROJECT/NIPT_CNV/f_cnv_out/data/w1000_r0.10_f0.01/dataset/NA12878_DEL_349.npz   \n",
       "864258  /zfssz2/ST_MCHRI/BIGDATA/PROJECT/NIPT_CNV/f_cnv_out/data/w1000_r0.10_f0.01/dataset/NA12878_DEL_211.npz   \n",
       "865399  /zfssz2/ST_MCHRI/BIGDATA/PROJECT/NIPT_CNV/f_cnv_out/data/w1000_r0.10_f0.01/dataset/NA12878_DEL_106.npz   \n",
       "866111  /zfssz2/ST_MCHRI/BIGDATA/PROJECT/NIPT_CNV/f_cnv_out/data/w1000_r0.10_f0.01/dataset/NA12878_DEL_443.npz   \n",
       "869098    /zfssz2/ST_MCHRI/BIGDATA/PROJECT/NIPT_CNV/f_cnv_out/data/w1000_r0.10_f0.01/dataset/NA12878_DEL_5.npz   \n",
       "869248  /zfssz2/ST_MCHRI/BIGDATA/PROJECT/NIPT_CNV/f_cnv_out/data/w1000_r0.10_f0.01/dataset/NA12878_DEL_335.npz   \n",
       "869350  /zfssz2/ST_MCHRI/BIGDATA/PROJECT/NIPT_CNV/f_cnv_out/data/w1000_r0.10_f0.01/dataset/NA12878_DEL_492.npz   \n",
       "\n",
       "        cnv_type_encode  \n",
       "958                   1  \n",
       "1177                  1  \n",
       "2264                  1  \n",
       "8565                  1  \n",
       "10706                 1  \n",
       "11802                 1  \n",
       "13212                 1  \n",
       "15208                 1  \n",
       "15381                 1  \n",
       "15724                 1  \n",
       "17843                 1  \n",
       "18420                 1  \n",
       "19682                 1  \n",
       "21472                 1  \n",
       "21717                 1  \n",
       "22765                 1  \n",
       "28177                 1  \n",
       "28391                 1  \n",
       "29594                 1  \n",
       "29702                 1  \n",
       "33894                 1  \n",
       "38044                 1  \n",
       "38130                 1  \n",
       "39087                 1  \n",
       "39260                 1  \n",
       "40457                 1  \n",
       "45074                 1  \n",
       "45183                 1  \n",
       "45819                 1  \n",
       "46483                 1  \n",
       "...                 ...  \n",
       "821591                1  \n",
       "824698                1  \n",
       "829698                1  \n",
       "830548                1  \n",
       "831198                1  \n",
       "836919                1  \n",
       "837098                1  \n",
       "838147                1  \n",
       "838784                1  \n",
       "838877                1  \n",
       "841690                1  \n",
       "841919                1  \n",
       "843231                1  \n",
       "845711                1  \n",
       "848509                1  \n",
       "848600                1  \n",
       "848663                1  \n",
       "853044                1  \n",
       "855142                1  \n",
       "857086                1  \n",
       "857805                1  \n",
       "858400                1  \n",
       "859664                1  \n",
       "862141                1  \n",
       "864258                1  \n",
       "865399                1  \n",
       "866111                1  \n",
       "869098                1  \n",
       "869248                1  \n",
       "869350                1  \n",
       "\n",
       "[563 rows x 2 columns]"
      ]
     },
     "execution_count": 4,
     "metadata": {},
     "output_type": "execute_result"
    }
   ],
   "source": [
    "na12878_tst_df"
   ]
  },
  {
   "cell_type": "code",
   "execution_count": 8,
   "metadata": {},
   "outputs": [
    {
     "name": "stderr",
     "output_type": "stream",
     "text": [
      "/zfssz2/ST_MCHRI/BIGDATA/USER/baiyong/anaconda3/lib/python3.6/site-packages/h5py/__init__.py:36: FutureWarning: Conversion of the second argument of issubdtype from `float` to `np.floating` is deprecated. In future, it will be treated as `np.float64 == np.dtype(float).type`.\n",
      "  from ._conv import register_converters as _register_converters\n"
     ]
    }
   ],
   "source": [
    "\n",
    "import h5py"
   ]
  },
  {
   "cell_type": "code",
   "execution_count": 9,
   "metadata": {},
   "outputs": [
    {
     "name": "stdout",
     "output_type": "stream",
     "text": [
      "b512_e50_lr0.001_dr0.1_fc32_blk441_win1000_cw221\n"
     ]
    }
   ],
   "source": [
    "# load test results\n",
    "test_result_root_dir = '/zfssz2/ST_MCHRI/BIGDATA/PROJECT/NIPT_CNV/f_cnv_out'\n",
    "\n",
    "def out_name(n_win_size=1000, epochs=50, batch=512, \n",
    "             learn_rate=0.001, drop=0.1,\n",
    "             fc_size=32, blocks='4_4_1', cw='221'):\n",
    "    str_blocks = [str(x) for x in blocks.split('_')]\n",
    "    str_blk = ''.join(str_blocks)\n",
    "    return 'b{0}_e{1}_lr{2:.3f}_dr{3:.1f}_fc{4}_blk{5}_win{6}_cw{7}'.format(\n",
    "            batch, epochs, learn_rate, drop, fc_size, str_blk, n_win_size, cw)\n",
    "\n",
    "win_size = 1000\n",
    "model_params = {'n_win_size': win_size,\n",
    "                    'epochs': 50,\n",
    "                    'batch': 512,\n",
    "                    'learn_rate': 0.001,\n",
    "                    'drop': 0.1,\n",
    "                    'fc_size': 32,\n",
    "                    'blocks': '4_4_1',\n",
    "               'cw':'221'}\n",
    "test_res_fn = out_name(**model_params)\n",
    "print(test_res_fn)"
   ]
  },
  {
   "cell_type": "code",
   "execution_count": 10,
   "metadata": {},
   "outputs": [],
   "source": [
    "# load the test results using the model trained by 1:1:1 training dataset\n",
    "test_res_dir = os.path.join(test_result_root_dir, 'model111/test_out')\n",
    "test_res_fname = os.path.join(test_res_dir, test_res_fn+'-offline-test.h5')"
   ]
  },
  {
   "cell_type": "code",
   "execution_count": 11,
   "metadata": {},
   "outputs": [],
   "source": [
    "with h5py.File(test_res_fname, 'r') as test_out:\n",
    "    ypred = test_out.get('ypred').value\n",
    "    ytrue = test_out.get('ytrue').value"
   ]
  },
  {
   "cell_type": "code",
   "execution_count": 12,
   "metadata": {},
   "outputs": [
    {
     "data": {
      "text/plain": [
       "1"
      ]
     },
     "execution_count": 12,
     "metadata": {},
     "output_type": "execute_result"
    }
   ],
   "source": [
    "ytrue[848663]"
   ]
  },
  {
   "cell_type": "code",
   "execution_count": 13,
   "metadata": {},
   "outputs": [
    {
     "data": {
      "text/plain": [
       "array([1.8141792e-10, 1.0000000e+00, 1.8170587e-12], dtype=float32)"
      ]
     },
     "execution_count": 13,
     "metadata": {},
     "output_type": "execute_result"
    }
   ],
   "source": [
    "ypred[848663]"
   ]
  },
  {
   "cell_type": "code",
   "execution_count": 14,
   "metadata": {},
   "outputs": [],
   "source": [
    "in_put = np.load('/zfssz2/ST_MCHRI/BIGDATA/PROJECT/NIPT_CNV/f_cnv_out/data/w1000_r0.10_f0.01/dataset/NA12878_DEL_2.npz')\n",
    "\n",
    "x = in_put['x']\n",
    "\n",
    "# 1|7510013|7511460|1447|DEL|0.161741|1"
   ]
  },
  {
   "cell_type": "code",
   "execution_count": 24,
   "metadata": {},
   "outputs": [
    {
     "data": {
      "text/plain": [
       "array([[0.        , 0.        , 0.        , ..., 0.        , 1.        ,\n",
       "        0.        ],\n",
       "       [0.25      , 0.84210526, 1.        , ..., 1.        , 0.        ,\n",
       "        0.        ],\n",
       "       [0.25      , 0.89473684, 1.        , ..., 1.        , 0.        ,\n",
       "        0.        ],\n",
       "       ...,\n",
       "       [0.75      , 0.92105263, 1.        , ..., 0.        , 1.        ,\n",
       "        0.        ],\n",
       "       [0.75      , 0.85087711, 1.        , ..., 1.        , 0.        ,\n",
       "        0.        ],\n",
       "       [1.        , 0.84210526, 1.        , ..., 0.        , 1.        ,\n",
       "        0.        ]])"
      ]
     },
     "execution_count": 24,
     "metadata": {},
     "output_type": "execute_result"
    }
   ],
   "source": [
    "x"
   ]
  },
  {
   "cell_type": "code",
   "execution_count": 38,
   "metadata": {},
   "outputs": [],
   "source": [
    "# f_online_feat = '/zfssz2/ST_MCHRI/BIGDATA/PROJECT/NIPT_CNV/f_cnv_out/online/NA12878/data/NA12878_chr1_features_whole.h5'\n",
    "f_online_feat='/zfssz6/ST_MCHRI/BIGDATA/P18Z10200N0124/NIPT_CNV/NIPT_CNV/online_calling_features/252_0.1X_NIPT_like_1000genome_testsample_online_calling_features/NA12878/data/NA12878_chr1_features_whole.h5'\n",
    "\n",
    "with h5py.File(f_online_feat, 'r') as f_online:\n",
    "    feat = f_online.get('feature').value\n",
    "    pos = f_online.get('base_cov_pos_idx').value"
   ]
  },
  {
   "cell_type": "code",
   "execution_count": 21,
   "metadata": {},
   "outputs": [
    {
     "data": {
      "text/plain": [
       "(248956422, 13)"
      ]
     },
     "execution_count": 21,
     "metadata": {},
     "output_type": "execute_result"
    }
   ],
   "source": [
    "feat.shape"
   ]
  },
  {
   "cell_type": "code",
   "execution_count": 48,
   "metadata": {},
   "outputs": [
    {
     "data": {
      "text/plain": [
       "array([0, 1, 1, 1, 1, 1, 1, 1, 1, 1, 1, 1, 1, 1, 1, 1, 1, 1, 1, 1, 1, 1,\n",
       "       1, 1, 1, 1, 1, 1, 1, 1, 1, 1, 1, 1, 1, 1, 0, 0, 0, 0, 0, 0, 0, 0,\n",
       "       0, 0, 0, 0, 0, 0, 0, 0, 0, 0, 0, 0, 0, 0, 0, 0, 0, 0, 0, 0, 0, 0,\n",
       "       0, 0, 0, 0, 0, 0, 0, 0, 0, 0, 0, 0, 0, 0, 0, 0, 0, 0, 0, 0, 0, 0,\n",
       "       0, 0, 0, 0, 0, 0, 0, 0, 0, 0, 0, 0, 0, 0, 0, 0, 0, 0, 0, 0, 0, 0,\n",
       "       0, 0, 0, 0, 0, 0, 0, 0, 0, 0, 0, 0, 0, 0, 0, 0, 0, 0, 0, 0, 0, 0,\n",
       "       0, 0, 0, 0, 0, 0, 0, 1, 1, 1, 1, 1, 1, 1, 1, 1, 1, 1, 1, 1, 1, 1,\n",
       "       1, 1, 1, 1, 1, 1, 1, 1, 1, 1, 1, 1, 1, 1, 1, 1, 1, 1, 1, 1, 0, 0,\n",
       "       0, 0, 0, 0, 0, 0, 0, 0, 0, 0, 0, 0, 0, 0, 0, 0, 0, 0, 0, 0, 0, 0,\n",
       "       0, 0, 1, 1, 1, 1, 1, 1, 1, 1, 1, 1, 1, 1, 1, 1, 1, 1, 1, 1, 1, 1,\n",
       "       1, 1, 1, 1, 1, 1, 1, 1, 1, 1, 1, 1, 1, 1, 1, 0, 0, 0, 0, 0, 0, 0,\n",
       "       0, 0, 0, 0, 0, 0, 0, 0, 0, 0, 0, 0, 0, 0, 0, 0, 0, 0, 0, 0, 0, 0,\n",
       "       0, 0, 0, 0, 0, 0, 0, 0, 0, 0, 0, 0, 0, 0, 0, 0, 0, 0, 1, 1, 1, 1,\n",
       "       1, 1, 1, 1, 1, 1, 1, 1, 1, 1, 1, 1, 1, 1, 1, 1, 1, 1, 1, 1, 1, 1,\n",
       "       1, 1, 1, 1, 1, 1, 1, 1, 1, 0, 0, 0, 0, 0, 0, 0, 0, 1, 1, 1, 1, 1,\n",
       "       1, 1, 1, 1, 1, 1, 1, 1, 1, 1, 1, 1, 1, 1, 1, 1, 1, 1, 1, 1, 1, 1,\n",
       "       1, 1, 1, 1, 1, 1, 1, 1, 1, 1, 1, 1, 1, 1, 1, 1, 1, 1, 1, 1, 1, 1,\n",
       "       1, 1, 1, 1, 1, 1, 1, 1, 1, 1, 1, 1, 1, 1, 1, 1, 1, 1, 1, 1, 1, 1,\n",
       "       1, 1, 1, 1, 1, 1, 1, 1, 1, 1, 1, 1, 0, 0, 0, 0, 0, 0, 0, 0, 0, 0,\n",
       "       0, 0, 0, 0, 0, 0, 0, 0, 0, 0, 0, 0, 0, 0, 0, 0, 0, 0, 0, 0, 0, 0,\n",
       "       0, 0, 0, 0, 0, 0, 0, 0, 0, 0, 0, 0, 0, 0, 0, 0, 0, 0, 0, 0, 0, 0,\n",
       "       0, 0, 0, 0, 0, 0, 0, 0, 0, 0, 0, 0, 0, 0, 0, 0, 0, 0, 0, 0, 0, 0,\n",
       "       0, 0, 0, 0, 0, 0, 0, 0, 0, 0, 0, 0, 0, 0, 0, 0, 0, 0, 0, 0, 0, 0,\n",
       "       0, 0, 0, 0, 0, 0, 0, 0, 0, 0, 0, 0, 0, 0, 0, 0, 0, 0, 0, 0, 0, 0,\n",
       "       0, 0, 0, 0, 0, 0, 0, 0, 0, 0, 0, 0, 0, 0, 0, 0, 0, 0, 0, 0, 0, 0,\n",
       "       0, 0, 0, 0, 0, 0, 0, 1, 1, 1, 1, 1, 1, 1, 1, 1, 1, 1, 1, 1, 1, 1,\n",
       "       1, 1, 1, 1, 1, 1, 1, 1, 1, 1, 1, 1, 1, 1, 1, 1, 1, 1, 1, 1, 0, 0,\n",
       "       0, 0, 0, 0, 0, 0, 0, 0, 0, 0, 0, 0, 0, 0, 0, 0, 0, 0, 0, 0, 0, 0,\n",
       "       0, 0, 0, 0, 0, 0, 0, 0, 0, 0, 0, 0, 0, 0, 0, 0, 0, 0, 0, 0, 0, 0,\n",
       "       0, 0, 0, 0, 0, 0, 0, 0, 0, 0, 0, 0, 0, 0, 0, 0, 0, 0, 0, 0, 0, 0,\n",
       "       0, 0, 0, 0, 0, 0, 0, 0, 0, 0, 0, 0, 0, 0, 0, 0, 0, 0, 0, 0, 0, 0,\n",
       "       0, 0, 0, 0, 0, 0, 0, 0, 0, 0, 0, 0, 0, 0, 0, 0, 0, 0, 0, 0, 0, 0,\n",
       "       0, 0, 0, 0, 0, 0, 0, 0, 0, 0, 0, 0, 0, 0, 0, 0, 0, 0, 0, 0, 0, 0,\n",
       "       0, 0, 0, 0, 0, 0, 0, 0, 0, 0, 0, 1, 1, 1, 1, 1, 1, 1, 1, 1, 1, 1,\n",
       "       1, 1, 1, 1, 1, 1, 1, 1, 1, 1, 1, 1, 1, 1, 1, 1, 1, 1, 1, 1, 1, 1,\n",
       "       1, 1, 1, 1, 1, 1, 1, 1, 1, 1, 1, 1, 0, 0, 0, 0, 0, 0, 0, 0, 0, 0,\n",
       "       0, 0, 0, 0, 0, 0, 0, 0, 0, 0, 0, 0, 0, 0, 0, 0, 0, 0, 0, 0, 0, 0,\n",
       "       0, 0, 0, 0, 0, 0, 0, 0, 0, 0, 0, 0, 0, 0, 0, 0, 0, 0, 0, 0, 0, 0,\n",
       "       0, 0, 0, 0, 0, 0, 0, 0, 0, 1, 1, 1, 1, 1, 1, 1, 1, 1, 1, 1, 1, 1,\n",
       "       1, 1, 1, 1, 1, 1, 1, 1, 1, 1, 1, 1, 1, 1, 1, 1, 1, 1, 1, 1, 1, 1,\n",
       "       0, 0, 1, 1, 1, 1, 1, 1, 1, 1, 1, 1, 1, 1, 1, 1, 1, 1, 1, 1, 1, 1,\n",
       "       1, 1, 1, 1, 1, 1, 1, 1, 1, 1, 1, 1, 1, 1, 1, 1, 1, 1, 1, 1, 1, 1,\n",
       "       1, 1, 1, 1, 1, 1, 1, 0, 0, 0, 0, 0, 0, 0, 0, 0, 0, 0, 0, 0, 0, 0,\n",
       "       0, 0, 0, 0, 0, 0, 0, 0, 0, 0, 0, 0, 0, 0, 0, 0, 0, 0, 0, 0, 0, 1,\n",
       "       1, 1, 1, 1, 1, 1, 1, 1, 1, 1, 1, 1, 1, 1, 1, 1, 1, 1, 1, 1, 1, 1,\n",
       "       1, 1, 1, 1, 1, 1, 1, 1, 1, 1])"
      ]
     },
     "execution_count": 48,
     "metadata": {},
     "output_type": "execute_result"
    }
   ],
   "source": [
    "pos[7511460-1000:7511460]"
   ]
  },
  {
   "cell_type": "code",
   "execution_count": 56,
   "metadata": {},
   "outputs": [
    {
     "data": {
      "text/plain": [
       "array([[ 0.      ,  0.      ,  0.      , ...,  1.      ,  0.      ,\n",
       "         0.      ],\n",
       "       [ 0.      ,  0.      ,  0.      , ...,  0.      ,  1.      ,\n",
       "         0.      ],\n",
       "       [ 0.      ,  0.      ,  0.      , ...,  0.      ,  1.      ,\n",
       "         0.      ],\n",
       "       ...,\n",
       "       [ 3.      , 36.666668, 37.      , ...,  0.      ,  0.      ,\n",
       "         0.      ],\n",
       "       [ 3.      , 37.      , 37.      , ...,  0.      ,  1.      ,\n",
       "         0.      ],\n",
       "       [ 3.      , 36.      , 37.      , ...,  0.      ,  0.      ,\n",
       "         0.      ]], dtype=float32)"
      ]
     },
     "execution_count": 56,
     "metadata": {},
     "output_type": "execute_result"
    }
   ],
   "source": [
    "feat[7510455:7511455]\n",
    "#7510013"
   ]
  },
  {
   "cell_type": "code",
   "execution_count": 25,
   "metadata": {},
   "outputs": [],
   "source": [
    "t_online = '/zfssz2/ST_MCHRI/BIGDATA/PROJECT/NIPT_CNV/f_cnv_out/online/NA12878/data/win1000_step35_r0.10_chr1_seg_a_pred_idx1_tn6584671_sn131072_s4881325_e9484265.h5'\n",
    "with h5py.File(t_online, 'r') as t_online:\n",
    "    feat_meta = t_online.get('pred_meta').value\n",
    "    feat_f = t_online.get('pred_feat').value"
   ]
  },
  {
   "cell_type": "code",
   "execution_count": 34,
   "metadata": {},
   "outputs": [
    {
     "data": {
      "text/plain": [
       "(131072, 4)"
      ]
     },
     "execution_count": 34,
     "metadata": {},
     "output_type": "execute_result"
    }
   ],
   "source": [
    "feat_meta.shape"
   ]
  },
  {
   "cell_type": "code",
   "execution_count": 55,
   "metadata": {},
   "outputs": [
    {
     "data": {
      "text/plain": [
       "array([[7510455, 7511455,    1000,       3],\n",
       "       [7510490, 7511490,    1000,       3],\n",
       "       [7510525, 7511525,    1000,       3],\n",
       "       ...,\n",
       "       [9483195, 9484195,    1000,       3],\n",
       "       [9483230, 9484230,    1000,       3],\n",
       "       [9483265, 9484265,    1000,       3]], dtype=int32)"
      ]
     },
     "execution_count": 55,
     "metadata": {},
     "output_type": "execute_result"
    }
   ],
   "source": [
    "feat_meta[(feat_meta[:,0]>7511460-1000-35)]"
   ]
  },
  {
   "cell_type": "code",
   "execution_count": 57,
   "metadata": {},
   "outputs": [
    {
     "data": {
      "text/plain": [
       "(array([ 74858,  74859,  74860, ..., 131069, 131070, 131071]),)"
      ]
     },
     "execution_count": 57,
     "metadata": {},
     "output_type": "execute_result"
    }
   ],
   "source": [
    "np.where((feat_meta[:,0]>7511460-1000-35))"
   ]
  },
  {
   "cell_type": "code",
   "execution_count": 60,
   "metadata": {},
   "outputs": [
    {
     "data": {
      "text/plain": [
       "array([[0.        , 0.        , 0.        , ..., 1.        , 0.        ,\n",
       "        0.        ],\n",
       "       [0.        , 0.        , 0.        , ..., 0.        , 1.        ,\n",
       "        0.        ],\n",
       "       [0.        , 0.        , 0.        , ..., 0.        , 1.        ,\n",
       "        0.        ],\n",
       "       ...,\n",
       "       [1.        , 0.9649123 , 1.        , ..., 0.        , 0.        ,\n",
       "        0.        ],\n",
       "       [1.        , 0.9736842 , 1.        , ..., 0.        , 1.        ,\n",
       "        0.        ],\n",
       "       [1.        , 0.94736844, 1.        , ..., 0.        , 0.        ,\n",
       "        0.        ]], dtype=float32)"
      ]
     },
     "execution_count": 60,
     "metadata": {},
     "output_type": "execute_result"
    }
   ],
   "source": [
    "feat_f[74858,:,:]"
   ]
  },
  {
   "cell_type": "code",
   "execution_count": 86,
   "metadata": {},
   "outputs": [
    {
     "data": {
      "text/plain": [
       "Text(0.5,1,'HG01136,chr1')"
      ]
     },
     "execution_count": 86,
     "metadata": {},
     "output_type": "execute_result"
    },
    {
     "data": {
      "image/png": "[encoded data removed]",
      "text/plain": [
       "<matplotlib.figure.Figure at 0x7fda735a8400>"
      ]
     },
     "metadata": {},
     "output_type": "display_data"
    }
   ],
   "source": [
    "plt.figure(figsize=(20,6))\n",
    "plt.scatter(start_pos,i_copy,s=2,c='k')\n",
    "plt.xticks(fontsize=14)\n",
    "plt.yticks(fontsize=14)\n",
    "plt.xlabel('Position',fontsize=14)\n",
    "plt.ylabel('log 2 ratio',fontsize=14)\n",
    "plt.title('HG01136,chr1',fontsize=14)\n"
   ]
  },
  {
   "cell_type": "code",
   "execution_count": null,
   "metadata": {},
   "outputs": [],
   "source": []
  }
 ],
 "metadata": {
  "kernelspec": {
   "display_name": "Python 3",
   "language": "python",
   "name": "python3"
  },
  "language_info": {
   "codemirror_mode": {
    "name": "ipython",
    "version": 3
   },
   "file_extension": ".py",
   "mimetype": "text/x-python",
   "name": "python",
   "nbconvert_exporter": "python",
   "pygments_lexer": "ipython3",
   "version": "3.6.5"
  }
 },
 "nbformat": 4,
 "nbformat_minor": 2
}

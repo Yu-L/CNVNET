{
 "cells": [
  {
   "cell_type": "code",
   "execution_count": 4,
   "metadata": {},
   "outputs": [
    {
     "ename": "TypeError",
     "evalue": "unsupported operand type(s) for *: 'NoneType' and 'NoneType'",
     "output_type": "error",
     "traceback": [
      "\u001b[0;31m-----------------------------------------------------------------------\u001b[0m",
      "\u001b[0;31mTypeError\u001b[0m                             Traceback (most recent call last)",
      "\u001b[0;32m<ipython-input-4-688258b47f69>\u001b[0m in \u001b[0;36m<module>\u001b[0;34m()\u001b[0m\n\u001b[1;32m     40\u001b[0m         \u001b[0minit_state_concentration\u001b[0m\u001b[0;34m=\u001b[0m\u001b[0;36m600.\u001b[0m\u001b[0;34m,\u001b[0m\u001b[0;34m\u001b[0m\u001b[0m\n\u001b[1;32m     41\u001b[0m         \u001b[0mobs_distns\u001b[0m\u001b[0;34m=\u001b[0m\u001b[0mobs_distns\u001b[0m\u001b[0;34m,\u001b[0m\u001b[0;34m\u001b[0m\u001b[0m\n\u001b[0;32m---> 42\u001b[0;31m         dur_distns=dur_distns)\n\u001b[0m\u001b[1;32m     43\u001b[0m \u001b[0mposteriormodel\u001b[0m\u001b[0;34m.\u001b[0m\u001b[0madd_data\u001b[0m\u001b[0;34m(\u001b[0m\u001b[0mdata\u001b[0m\u001b[0;34m,\u001b[0m\u001b[0mtrunc\u001b[0m\u001b[0;34m=\u001b[0m\u001b[0;36m70\u001b[0m\u001b[0;34m)\u001b[0m\u001b[0;34m\u001b[0m\u001b[0m\n\u001b[1;32m     44\u001b[0m \u001b[0;34m\u001b[0m\u001b[0m\n",
      "\u001b[0;32m~/anaconda3/lib/python3.6/site-packages/pyhsmm-0.1.6-py3.6-linux-x86_64.egg/pyhsmm/models.py\u001b[0m in \u001b[0;36m__init__\u001b[0;34m(self, obs_distns, trans_distn, alpha, alpha_a_0, alpha_b_0, gamma, gamma_a_0, gamma_b_0, trans_matrix, **kwargs)\u001b[0m\n\u001b[1;32m    730\u001b[0m             trans_distn = self._trans_class(\n\u001b[1;32m    731\u001b[0m                     \u001b[0mnum_states\u001b[0m\u001b[0;34m=\u001b[0m\u001b[0mlen\u001b[0m\u001b[0;34m(\u001b[0m\u001b[0mobs_distns\u001b[0m\u001b[0;34m)\u001b[0m\u001b[0;34m,\u001b[0m\u001b[0malpha\u001b[0m\u001b[0;34m=\u001b[0m\u001b[0malpha\u001b[0m\u001b[0;34m,\u001b[0m\u001b[0mgamma\u001b[0m\u001b[0;34m=\u001b[0m\u001b[0mgamma\u001b[0m\u001b[0;34m,\u001b[0m\u001b[0;34m\u001b[0m\u001b[0m\n\u001b[0;32m--> 732\u001b[0;31m                     trans_matrix=trans_matrix)\n\u001b[0m\u001b[1;32m    733\u001b[0m \u001b[0;34m\u001b[0m\u001b[0m\n\u001b[1;32m    734\u001b[0m         super(_WeakLimitHDPMixin,self).__init__(\n",
      "\u001b[0;32m~/anaconda3/lib/python3.6/site-packages/pyhsmm-0.1.6-py3.6-linux-x86_64.egg/pyhsmm/internals/transitions.py\u001b[0m in \u001b[0;36m__init__\u001b[0;34m(self, gamma, alpha, num_states, beta, trans_matrix)\u001b[0m\n\u001b[1;32m    276\u001b[0m         super(_WeakLimitHDPHMMTransitionsBase,self).__init__(\n\u001b[1;32m    277\u001b[0m                 \u001b[0mnum_states\u001b[0m\u001b[0;34m=\u001b[0m\u001b[0mself\u001b[0m\u001b[0;34m.\u001b[0m\u001b[0mN\u001b[0m\u001b[0;34m,\u001b[0m\u001b[0malpha\u001b[0m\u001b[0;34m=\u001b[0m\u001b[0malpha\u001b[0m\u001b[0;34m,\u001b[0m\u001b[0;34m\u001b[0m\u001b[0m\n\u001b[0;32m--> 278\u001b[0;31m                 alphav=alpha*self.beta,trans_matrix=trans_matrix)\n\u001b[0m\u001b[1;32m    279\u001b[0m \u001b[0;34m\u001b[0m\u001b[0m\n\u001b[1;32m    280\u001b[0m     \u001b[0;34m@\u001b[0m\u001b[0mproperty\u001b[0m\u001b[0;34m\u001b[0m\u001b[0m\n",
      "\u001b[0;31mTypeError\u001b[0m: unsupported operand type(s) for *: 'NoneType' and 'NoneType'"
     ]
    }
   ],
   "source": [
    "from __future__ import division\n",
    "import numpy as np\n",
    "np.seterr(divide='ignore') # these warnings are usually harmless for this code\n",
    "from matplotlib import pyplot as plt\n",
    "%matplotlib inline\n",
    "import os\n",
    "import scipy.stats as stats\n",
    "\n",
    "import pyhsmm\n",
    "from pyhsmm.util.text import progprint_xrange\n",
    "\n",
    "###############\n",
    "#  load data  #\n",
    "###############\n",
    "\n",
    "T = 1000\n",
    "data = np.loadtxt('example-data.txt')[:T]\n",
    "\n",
    "#########################\n",
    "#  posterior inference  #\n",
    "#########################\n",
    "\n",
    "Nmax = 20\n",
    "obs_dim = data.shape[1]\n",
    "obs_hypparams = {'mu_0':np.zeros(obs_dim),\n",
    "                'sigma_0':np.eye(obs_dim),\n",
    "                'kappa_0':0.25,\n",
    "                'nu_0':obs_dim+2}\n",
    "dur_hypparams = {'alpha_0':2*30*20,\n",
    "                 'beta_0':2}\n",
    "\n",
    "obs_distns = [pyhsmm.distributions.Gaussian(**obs_hypparams) for state in range(Nmax)]\n",
    "dur_distns = [pyhsmm.distributions.PoissonDuration(**dur_hypparams) for state in range(Nmax)]\n",
    "\n",
    "posteriormodel = pyhsmm.models.WeakLimitHDPHSMM(\n",
    "        # NOTE: instead of passing in alpha_0 and gamma_0, we pass in parameters\n",
    "        # for priors over those concentration parameters\n",
    "    alpha=6.,gamma=6.,\n",
    "#         alpha_a_0=6.,alpha_b_0=1./4,\n",
    "#         gamma_a_0=6.,gamma_b_0=1./4,\n",
    "        init_state_concentration=600.,\n",
    "        obs_distns=obs_distns,\n",
    "        dur_distns=dur_distns)\n",
    "posteriormodel.add_data(data,trunc=70)\n",
    "\n",
    "for idx in progprint_xrange(50):\n",
    "    posteriormodel.resample_model()\n",
    "\n",
    "plt.figure()\n",
    "posteriormodel.plot()\n",
    "plt.gcf().suptitle('Sampled after 100 iterations')\n",
    "\n",
    "plt.figure()\n",
    "t = np.linspace(0.01,30,1000)\n",
    "plt.plot(t,stats.gamma.pdf(t,1.,scale=4.)) # NOTE: numpy/scipy scale is inverted compared to my scale\n",
    "plt.title('Prior on concentration parameters')\n",
    "\n",
    "# plt.show()"
   ]
  },
  {
   "cell_type": "code",
   "execution_count": null,
   "metadata": {},
   "outputs": [],
   "source": []
  }
 ],
 "metadata": {
  "kernelspec": {
   "display_name": "Python 3",
   "language": "python",
   "name": "python3"
  },
  "language_info": {
   "codemirror_mode": {
    "name": "ipython",
    "version": 3
   },
   "file_extension": ".py",
   "mimetype": "text/x-python",
   "name": "python",
   "nbconvert_exporter": "python",
   "pygments_lexer": "ipython3",
   "version": "3.6.5"
  }
 },
 "nbformat": 4,
 "nbformat_minor": 2
}

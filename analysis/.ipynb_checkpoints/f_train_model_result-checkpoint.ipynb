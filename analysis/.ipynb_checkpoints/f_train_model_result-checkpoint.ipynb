{
 "cells": [
  {
   "cell_type": "code",
   "execution_count": 7,
   "metadata": {},
   "outputs": [],
   "source": [
    "import os\n",
    "import numpy as np\n",
    "import pandas as pd"
   ]
  },
  {
   "cell_type": "code",
   "execution_count": null,
   "metadata": {},
   "outputs": [],
   "source": [
    "# model paramter\n",
    "model_params = {'n_win_size': 1000,\n",
    "                    'n_feat': 13,\n",
    "                    'n_class': 3,\n",
    "                    'epochs': 64,\n",
    "                    'batch': 1024,\n",
    "                    'learn_rate': 0.001,\n",
    "                    'drop': 0.5,\n",
    "                    'fc_size': 64,\n",
    "                    'blocks': '4_4_3'}\n",
    "\n"
   ]
  },
  {
   "cell_type": "code",
   "execution_count": 8,
   "metadata": {},
   "outputs": [],
   "source": [
    "model_train_result_root_dir = '/zfssz2/ST_MCHRI/BIGDATA/' \\\n",
    "'PROJECT/NIPT_CNV/f_cnv_out'\n",
    "\n",
    "# balanced data model\n",
    "balanced_model_train_result_dir = os.path.join(\n",
    "    model_train_result_root_dir, 'model')\n",
    "\n",
    "# unbalanced data model\n",
    "# DEL:DUP:NEU=1:2:3\n",
    "unbalanced_model_train_result_dir = os.path.join(\n",
    "    model_train_result_root_dir, 'model123')\n"
   ]
  },
  {
   "cell_type": "code",
   "execution_count": 6,
   "metadata": {},
   "outputs": [
    {
     "data": {
      "text/plain": [
       "'/zfssz2/ST_MCHRI/BIGDATA/PROJECT/NIPT_CNV/f_cnv_out'"
      ]
     },
     "execution_count": 6,
     "metadata": {},
     "output_type": "execute_result"
    }
   ],
   "source": [
    "bal_model_csv_fn = os.path.join(balanced_model_train_result_dir, \n",
    "                                model_csvlogger)"
   ]
  },
  {
   "cell_type": "code",
   "execution_count": null,
   "metadata": {},
   "outputs": [],
   "source": []
  }
 ],
 "metadata": {
  "kernelspec": {
   "display_name": "Python 3",
   "language": "python",
   "name": "python3"
  },
  "language_info": {
   "codemirror_mode": {
    "name": "ipython",
    "version": 3
   },
   "file_extension": ".py",
   "mimetype": "text/x-python",
   "name": "python",
   "nbconvert_exporter": "python",
   "pygments_lexer": "ipython3",
   "version": "3.6.5"
  }
 },
 "nbformat": 4,
 "nbformat_minor": 2
}

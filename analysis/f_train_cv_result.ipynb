{
 "cells": [
  {
   "cell_type": "code",
   "execution_count": 5,
   "metadata": {},
   "outputs": [],
   "source": [
    "import os\n",
    "import numpy as np\n",
    "import pandas as pd\n",
    "import skopt"
   ]
  },
  {
   "cell_type": "code",
   "execution_count": 6,
   "metadata": {},
   "outputs": [],
   "source": [
    "# this is old cv train result\n",
    "cv_train_result_root_dir = '/zfssz2/ST_MCHRI/BIGDATA/PROJECT/' \\\n",
    "'NIPT_CNV/1dcnn_resnet/model_cv'"
   ]
  },
  {
   "cell_type": "code",
   "execution_count": 7,
   "metadata": {},
   "outputs": [],
   "source": [
    "# load gp_minimize result\n",
    "# source code: ../train_model/cv_train.py\n",
    "# should consider generator\n",
    "gp_min_result_fn = os.path.join(\n",
    "    cv_train_result_root_dir, 'gp_search_res.pickle')\n",
    "\n",
    "gp_result = skopt.load(gp_min_result_fn)"
   ]
  },
  {
   "cell_type": "code",
   "execution_count": 8,
   "metadata": {},
   "outputs": [
    {
     "data": {
      "text/plain": [
       "['512', '50', '0.001', '0.1', '32', '4_4_1']"
      ]
     },
     "execution_count": 8,
     "metadata": {},
     "output_type": "execute_result"
    }
   ],
   "source": [
    "# the best parameters\n",
    "gp_result.x"
   ]
  },
  {
   "cell_type": "code",
   "execution_count": 14,
   "metadata": {},
   "outputs": [
    {
     "data": {
      "text/plain": [
       "Space([Categorical(categories=('128', '256', '512', '1024'), prior=None),\n",
       "       Categorical(categories=('20', '30', '40', '50'), prior=None),\n",
       "       Categorical(categories=('0.1', '0.01', '0.001', '0.0001'), prior=None),\n",
       "       Categorical(categories=('0.1', '0.2', '0.5'), prior=None),\n",
       "       Categorical(categories=('32', '64', '128'), prior=None),\n",
       "       Categorical(categories=('4_3', '4_4_1', '4_4_3', '4_4_4_1'), prior=None)])"
      ]
     },
     "execution_count": 14,
     "metadata": {},
     "output_type": "execute_result"
    }
   ],
   "source": [
    "space = gp_result.space\n",
    "space"
   ]
  },
  {
   "cell_type": "code",
   "execution_count": 15,
   "metadata": {},
   "outputs": [
    {
     "data": {
      "text/plain": [
       "-0.972443566119697"
      ]
     },
     "execution_count": 15,
     "metadata": {},
     "output_type": "execute_result"
    }
   ],
   "source": [
    "gp_result.fun"
   ]
  },
  {
   "cell_type": "code",
   "execution_count": 16,
   "metadata": {},
   "outputs": [
    {
     "data": {
      "text/plain": [
       "[(-0.972443566119697, ['512', '50', '0.001', '0.1', '32', '4_4_1']),\n",
       " (-0.9721939039952076, ['512', '50', '0.001', '0.2', '64', '4_4_4_1']),\n",
       " (-0.9720794757099761, ['128', '40', '0.001', '0.2', '128', '4_4_1']),\n",
       " (-0.9719962550712576, ['128', '50', '0.01', '0.1', '64', '4_4_4_1']),\n",
       " (-0.9719442421720587, ['128', '40', '0.001', '0.1', '32', '4_4_4_1']),\n",
       " (-0.9713096847621482, ['256', '50', '0.001', '0.5', '128', '4_4_3']),\n",
       " (-0.9709753523078478, ['1024', '20', '0.001', '0.2', '64', '4_4_3']),\n",
       " (-0.9696140642879434, ['128', '20', '0.001', '0.1', '128', '4_4_1']),\n",
       " (-0.9681681056914513, ['256', '30', '0.001', '0.5', '128', '4_3']),\n",
       " (-0.9655570581963044, ['512', '30', '0.01', '0.1', '64', '4_4_1']),\n",
       " (-0.9533860397911786, ['512', '30', '0.01', '0.5', '64', '4_4_3']),\n",
       " (-0.9480287111426794, ['512', '30', '0.01', '0.5', '32', '4_4_3']),\n",
       " (-0.9336523457854742, ['256', '50', '0.01', '0.5', '128', '4_4_3']),\n",
       " (-0.9258293494496138, ['1024', '20', '0.01', '0.2', '32', '4_3']),\n",
       " (-0.9253926973802719, ['512', '40', '0.01', '0.5', '32', '4_3']),\n",
       " (-0.38047639741999917, ['1024', '20', '0.0001', '0.5', '64', '4_4_4_1']),\n",
       " (-0.34320481777862194, ['1024', '40', '0.0001', '0.5', '128', '4_4_3']),\n",
       " (-0.3339332154535496, ['256', '50', '0.1', '0.5', '64', '4_4_4_1']),\n",
       " (-0.33372653707134436, ['1024', '50', '0.1', '0.2', '32', '4_4_4_1']),\n",
       " (-0.33231041299916075, ['256', '20', '0.1', '0.1', '64', '4_4_1'])]"
      ]
     },
     "execution_count": 16,
     "metadata": {},
     "output_type": "execute_result"
    }
   ],
   "source": [
    "sorted(zip(gp_result.func_vals, gp_result.x_iters))"
   ]
  },
  {
   "cell_type": "markdown",
   "metadata": {},
   "source": [
    "# Plot"
   ]
  },
  {
   "cell_type": "code",
   "execution_count": 19,
   "metadata": {},
   "outputs": [],
   "source": [
    "# reference: https://github.com/Hvass-Labs/TensorFlow-Tutorials/blob/master/19_Hyper-Parameters.ipynb\n",
    "from skopt.plots import plot_convergence\n",
    "from skopt.plots import plot_objective, plot_evaluations\n",
    "# the following two plot funcs is not working for the current version of skopt\n",
    "# from skopt.plots import plot_histogram, plot_objective_2D"
   ]
  },
  {
   "cell_type": "code",
   "execution_count": 24,
   "metadata": {},
   "outputs": [],
   "source": [
    "# dim_names = ['batch_size', 'epoch', 'learn_rate', 'drop', 'fc_size']\n",
    "# fig, ax = plot_evaluations(result=gp_result, dimensions=dim_names)"
   ]
  },
  {
   "cell_type": "code",
   "execution_count": null,
   "metadata": {},
   "outputs": [],
   "source": []
  }
 ],
 "metadata": {
  "kernelspec": {
   "display_name": "Python 3",
   "language": "python",
   "name": "python3"
  },
  "language_info": {
   "codemirror_mode": {
    "name": "ipython",
    "version": 3
   },
   "file_extension": ".py",
   "mimetype": "text/x-python",
   "name": "python",
   "nbconvert_exporter": "python",
   "pygments_lexer": "ipython3",
   "version": "3.6.5"
  }
 },
 "nbformat": 4,
 "nbformat_minor": 2
}
